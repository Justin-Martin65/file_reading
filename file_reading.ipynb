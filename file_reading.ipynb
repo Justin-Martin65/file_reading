{
 "cells": [
  {
   "cell_type": "markdown",
   "id": "c0e2c21a-eefc-47c6-a83b-9e75133e9d57",
   "metadata": {},
   "source": [
    "### Open\n",
    "* Opens text OR binary\n",
    "    * image and other binary encoding not supported by default in python\n",
    "* use \"mode\" argument to determine arguments\n",
    "    * examples:\n",
    "        * read\n",
    "        * text\n",
    "        * binary\n",
    "* "
   ]
  },
  {
   "cell_type": "markdown",
   "id": "7a580213-e2bd-45f3-8a11-b3eef2b5cf90",
   "metadata": {},
   "source": [
    "### Unicode: UTF 8\n",
    "* ASCII 8 combined in various ways to create different characters.\n",
    "* ASCII originally had only 255 max characters\n",
    "    * not enough for languages such as Japanese"
   ]
  },
  {
   "cell_type": "code",
   "execution_count": null,
   "id": "1829bb2f-e2e7-4806-9a7d-d50cb7854b74",
   "metadata": {},
   "outputs": [],
   "source": []
  }
 ],
 "metadata": {
  "kernelspec": {
   "display_name": "Python 3 (ipykernel)",
   "language": "python",
   "name": "python3"
  },
  "language_info": {
   "codemirror_mode": {
    "name": "ipython",
    "version": 3
   },
   "file_extension": ".py",
   "mimetype": "text/x-python",
   "name": "python",
   "nbconvert_exporter": "python",
   "pygments_lexer": "ipython3",
   "version": "3.9.13"
  }
 },
 "nbformat": 4,
 "nbformat_minor": 5
}
